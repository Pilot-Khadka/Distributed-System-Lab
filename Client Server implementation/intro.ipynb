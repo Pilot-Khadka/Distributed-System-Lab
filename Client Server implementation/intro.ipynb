{
 "cells": [
  {
   "cell_type": "code",
   "execution_count": 12,
   "id": "ca7e7bdf-e0f3-40b3-9afb-50da03c0552c",
   "metadata": {},
   "outputs": [
    {
     "name": "stdout",
     "output_type": "stream",
     "text": [
      "Socket sucessfully created\n",
      "socket sucessfully connected to Google on port 142.250.192.196\n"
     ]
    }
   ],
   "source": [
    "import socket\n",
    "import sys\n",
    "\n",
    "'''\n",
    "AF_INET : address family IPV4\n",
    "SOCK_STREAM : connection or TCP protocol\n",
    "'''\n",
    "try:\n",
    "    s = socket.socket(socket.AF_INET, socket.SOCK_STREAM)\n",
    "    print('Socket sucessfully created')\n",
    "except socket.error as err:\n",
    "    print(f'socket creation failed with error {err}')\n",
    "    \n",
    "port = 80\n",
    "\n",
    "try:\n",
    "    host_ip = socket.gethostbyname('www.google.com')\n",
    "except socket.gaierror:\n",
    "    print('error resolving the host')\n",
    "    sys.exit()\n",
    "s.connect((host_ip,port))\n",
    "print(f'socket sucessfully connected to Google on port {host_ip}')\n"
   ]
  },
  {
   "cell_type": "code",
   "execution_count": 5,
   "id": "72e45a01-4b42-4979-b7a9-87088120118f",
   "metadata": {},
   "outputs": [
    {
     "name": "stdout",
     "output_type": "stream",
     "text": [
      "142.250.192.196\n"
     ]
    }
   ],
   "source": [
    "# get ip\n",
    "ip = socket.gethostbyname('www.google.com')\n",
    "print(ip)"
   ]
  },
  {
   "cell_type": "code",
   "execution_count": null,
   "id": "cd7b4ee6-348c-4fd8-a442-9acc7c6cc5cc",
   "metadata": {},
   "outputs": [],
   "source": []
  },
  {
   "cell_type": "code",
   "execution_count": null,
   "id": "c1314ed5-8ab2-443c-9fea-82590127c1a5",
   "metadata": {},
   "outputs": [],
   "source": []
  }
 ],
 "metadata": {
  "kernelspec": {
   "display_name": "Python 3 (ipykernel)",
   "language": "python",
   "name": "python3"
  },
  "language_info": {
   "codemirror_mode": {
    "name": "ipython",
    "version": 3
   },
   "file_extension": ".py",
   "mimetype": "text/x-python",
   "name": "python",
   "nbconvert_exporter": "python",
   "pygments_lexer": "ipython3",
   "version": "3.8.13"
  }
 },
 "nbformat": 4,
 "nbformat_minor": 5
}
